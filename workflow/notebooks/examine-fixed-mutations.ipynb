{
 "cells": [
  {
   "cell_type": "markdown",
   "id": "b13ed611",
   "metadata": {},
   "source": [
    "# Examine Fixed Mutations \n",
    "\n",
    "What are the mutations that have fixed in samples isolated from the brain? We call this consensus the \"SSPE Reference\" and the Cattaneo lab call this the \"Brain Founder\"."
   ]
  },
  {
   "cell_type": "code",
   "execution_count": 1,
   "id": "11996397",
   "metadata": {},
   "outputs": [],
   "source": [
    "import os \n",
    "import pandas as pd\n",
    "import numpy as np\n",
    "from Bio import SeqIO"
   ]
  },
  {
   "cell_type": "code",
   "execution_count": 2,
   "id": "cc4ded22",
   "metadata": {},
   "outputs": [],
   "source": [
    "# Get the list of consensus mutation in the brain\n",
    "consensus_snps_df = pd.read_csv(\"../../config/ref/annotated_SSPE_consensus_snps.csv\")\n",
    "\n",
    "# Get the reference sequence as s list\n",
    "reference_seq = [base for record in SeqIO.parse(\"../../config/ref/MeVChiTok.fa\", \"fasta\") for base in record.seq]"
   ]
  },
  {
   "cell_type": "markdown",
   "id": "02544e83",
   "metadata": {},
   "source": [
    "## Mutations to Stop Codons\n",
    "\n",
    "Some of the most interesting mutations will be to stop codons – either mutations that remove stop codons or introduce new stop codons. These will change the reading frames in all of the measles isolates. "
   ]
  },
  {
   "cell_type": "code",
   "execution_count": 3,
   "id": "7f61c404",
   "metadata": {},
   "outputs": [
    {
     "data": {
      "text/html": [
       "<div>\n",
       "<style scoped>\n",
       "    .dataframe tbody tr th:only-of-type {\n",
       "        vertical-align: middle;\n",
       "    }\n",
       "\n",
       "    .dataframe tbody tr th {\n",
       "        vertical-align: top;\n",
       "    }\n",
       "\n",
       "    .dataframe thead th {\n",
       "        text-align: right;\n",
       "    }\n",
       "</style>\n",
       "<table border=\"1\" class=\"dataframe\">\n",
       "  <thead>\n",
       "    <tr style=\"text-align: right;\">\n",
       "      <th></th>\n",
       "      <th>POS</th>\n",
       "      <th>REF</th>\n",
       "      <th>ALT</th>\n",
       "      <th>Gene</th>\n",
       "      <th>WT_AA</th>\n",
       "      <th>MUT_AA</th>\n",
       "      <th>POS_AA</th>\n",
       "    </tr>\n",
       "  </thead>\n",
       "  <tbody>\n",
       "    <tr>\n",
       "      <th>76</th>\n",
       "      <td>9124</td>\n",
       "      <td>G</td>\n",
       "      <td>T</td>\n",
       "      <td>H</td>\n",
       "      <td>*</td>\n",
       "      <td>Y</td>\n",
       "      <td>618.0</td>\n",
       "    </tr>\n",
       "    <tr>\n",
       "      <th>129</th>\n",
       "      <td>3812</td>\n",
       "      <td>G</td>\n",
       "      <td>A</td>\n",
       "      <td>M</td>\n",
       "      <td>W</td>\n",
       "      <td>*</td>\n",
       "      <td>125.0</td>\n",
       "    </tr>\n",
       "  </tbody>\n",
       "</table>\n",
       "</div>"
      ],
      "text/plain": [
       "      POS REF ALT Gene WT_AA MUT_AA  POS_AA\n",
       "76   9124   G   T    H     *      Y   618.0\n",
       "129  3812   G   A    M     W      *   125.0"
      ]
     },
     "execution_count": 3,
     "metadata": {},
     "output_type": "execute_result"
    }
   ],
   "source": [
    "stop_codon_mutations = consensus_snps_df[(consensus_snps_df[\"MUT_AA\"] == \"*\") | (consensus_snps_df[\"WT_AA\"] == \"*\")]\n",
    "stop_codon_mutations"
   ]
  },
  {
   "cell_type": "markdown",
   "id": "f0eceeb2",
   "metadata": {},
   "source": [
    "There are two mutations that change stop codons. One of these is a very significant truncation of the Matrix protein (**W125***) and the other removes the stop codon in Hemagglutinin (***618Y**).  "
   ]
  },
  {
   "cell_type": "markdown",
   "id": "f0cc1620",
   "metadata": {},
   "source": [
    "### Matrix Premature Stop\n",
    "\n",
    "Stop codons are known dirver mutations of SSPE. It's thought that an inactive or truncated Matrix protein is important for SSPE progression. \n",
    "\n",
    "Based on the accumulation of mutations in the Matrix protein, it almost seems like this mutations was aquired twice. One plausible explaination of this is that the mutation is in a site particularly succeptible to ADAR mediated mutations. "
   ]
  },
  {
   "cell_type": "markdown",
   "id": "0700dbb1",
   "metadata": {},
   "source": [
    "ADAR has some [sequence specificity](https://www.nature.com/articles/ncomms1324). Is this sequence specifcity also around the site of the introduced stop codon? "
   ]
  },
  {
   "cell_type": "code",
   "execution_count": 4,
   "id": "13706c03",
   "metadata": {},
   "outputs": [
    {
     "data": {
      "text/plain": [
       "'CCTTGaAGAAA'"
      ]
     },
     "execution_count": 4,
     "metadata": {},
     "output_type": "execute_result"
    }
   ],
   "source": [
    "reference_seq[3812-1] = \"a\"\n",
    "\n",
    "\"\".join(reference_seq[(3812-1-5):(3812-1+6)])"
   ]
  },
  {
   "cell_type": "markdown",
   "id": "a998f0d7",
   "metadata": {},
   "source": [
    "I doesn't look like the sequence context for ADAR, and what's more, it can't be an ADAR mutations. These will always be **A -> G** or **T -> C**."
   ]
  },
  {
   "cell_type": "markdown",
   "id": "37592ec2",
   "metadata": {},
   "source": [
    "### Haemagglutinin Stop Mutation \n",
    "\n",
    "The normal stop codon at the end of Haemagglutinin is mutated to a tyrosine. Where is the next stop codon? "
   ]
  },
  {
   "cell_type": "code",
   "execution_count": 5,
   "id": "df5cb81d",
   "metadata": {},
   "outputs": [],
   "source": [
    "def parse_gff(gff_path, genes_to_keep = ['N', 'P', 'M', 'F', 'H', 'L']):\n",
    "    \"\"\"\n",
    "    Parse the Measles GFF file to get the coordinates of the coding sequences.\n",
    "    \"\"\"\n",
    "    # Hold the parsed genes\n",
    "    gff_dict = {}\n",
    "    \n",
    "    # Parse the GFF file\n",
    "    with open(gff_path) as gff_file:\n",
    "        for line in gff_file:\n",
    "            # Ignore the header\n",
    "            if line.startswith('#'):\n",
    "                continue\n",
    "            # Only take the coding sequences\n",
    "            else:\n",
    "                record = line.strip().split(\"\\t\")\n",
    "                if record[2] == \"CDS\":\n",
    "                   \n",
    "                    # Get the start and stop \n",
    "                    start = int(record[3])\n",
    "                    stop = int(record[4])\n",
    "                    \n",
    "                    # Get the gene and product names\n",
    "                    annot_dict = {annot.split(\"=\")[0]: annot.split(\"=\")[1] for annot in record[8].split(\";\")}\n",
    "                    gene = annot_dict['gene']\n",
    "\n",
    "                    # There are four P/V/C reading frames\n",
    "                    if gene == 'P/V/C':\n",
    "                        gene = annot_dict['product'][0].upper()\n",
    "                    \n",
    "                    # Only keep the annotations of interest\n",
    "                    if gene in genes_to_keep:\n",
    "                        gff_dict[gene] = [start, stop]\n",
    "                        \n",
    "    return gff_dict"
   ]
  },
  {
   "cell_type": "code",
   "execution_count": 6,
   "id": "a7f725a4",
   "metadata": {},
   "outputs": [],
   "source": [
    "# Parse the coordinates of H from the GFF file.\n",
    "H_coordinates = parse_gff(\"../../config/gff/MeVChiTok.gff\")['H']"
   ]
  },
  {
   "cell_type": "code",
   "execution_count": 7,
   "id": "39ea7ace",
   "metadata": {},
   "outputs": [
    {
     "name": "stdout",
     "output_type": "stream",
     "text": [
      "There is another stop codon at 3: TAG\n"
     ]
    }
   ],
   "source": [
    "stop_codons = ['TAA','TAG','TGA']\n",
    "\n",
    "after_H_stop = reference_seq[H_coordinates[1]:]\n",
    "\n",
    "codons_after_H = [\"\".join([a,b,c]) for a,b,c in zip(after_H_stop[0::3], after_H_stop[1::3], after_H_stop[2::3])]\n",
    "\n",
    "for i, codon in enumerate(codons_after_H):\n",
    "    if codon in stop_codons:\n",
    "        print(f\"There is another stop codon at {i+1}: {codon}\")\n",
    "        break"
   ]
  },
  {
   "cell_type": "markdown",
   "id": "a515bf13",
   "metadata": {},
   "source": [
    "It looks like there is another in-frame stop codon only there codons downstream of the original stop. This means that there are three additional amino acids in the SSPE Haemagglutinin sequence. What are these? "
   ]
  },
  {
   "cell_type": "code",
   "execution_count": 8,
   "id": "3461189b",
   "metadata": {},
   "outputs": [
    {
     "data": {
      "text/plain": [
       "[7271, 9133]"
      ]
     },
     "execution_count": 8,
     "metadata": {},
     "output_type": "execute_result"
    }
   ],
   "source": [
    "# Update the coordinates of H\n",
    "new_H_coordinates = [H_coordinates[0], H_coordinates[1] + (3*3)]\n",
    "new_H_coordinates"
   ]
  },
  {
   "cell_type": "code",
   "execution_count": 9,
   "id": "b82e32d2",
   "metadata": {},
   "outputs": [
    {
     "name": "stdout",
     "output_type": "stream",
     "text": [
      "GGC TGC TAG\n"
     ]
    }
   ],
   "source": [
    "new_codons = reference_seq[H_coordinates[1]:new_H_coordinates[1]]\n",
    "new_codons = [\"\".join([a,b,c]) for a,b,c in zip(new_codons[0::3], new_codons[1::3], new_codons[2::3])]\n",
    "print(*new_codons)"
   ]
  },
  {
   "cell_type": "markdown",
   "id": "ef4fea8a",
   "metadata": {},
   "source": [
    "The old stop codon become a Tyrosine, then there is a Glycine and a Cysteine. "
   ]
  },
  {
   "cell_type": "markdown",
   "id": "e2f5d08c",
   "metadata": {},
   "source": [
    "## Distribution of Mutation Effects\n",
    "\n",
    "What is the distribution of fixed mutations and their effects? Are there lots of apparent ADAR mutations? Where are these mutations in the genome? "
   ]
  },
  {
   "cell_type": "code",
   "execution_count": 10,
   "id": "27c7b6f9",
   "metadata": {},
   "outputs": [
    {
     "name": "stdout",
     "output_type": "stream",
     "text": [
      "There are 137 mutations fixed in the SSPE samples.\n"
     ]
    }
   ],
   "source": [
    "print(f\"There are {consensus_snps_df.shape[0]} mutations fixed in the SSPE samples.\")"
   ]
  },
  {
   "cell_type": "code",
   "execution_count": 11,
   "id": "db7db4f3",
   "metadata": {},
   "outputs": [
    {
     "name": "stdout",
     "output_type": "stream",
     "text": [
      "There are 57 mutations that are possibly a result of ADAR.\n"
     ]
    }
   ],
   "source": [
    "possible_ADAR_df = consensus_snps_df.query(\"REF == 'T' and ALT == 'C' or REF == 'A' and ALT == 'G'\")\n",
    "\n",
    "print(f\"There are {possible_ADAR_df.shape[0]} mutations that are possibly a result of ADAR.\")"
   ]
  },
  {
   "cell_type": "code",
   "execution_count": 12,
   "id": "fda8e19f",
   "metadata": {},
   "outputs": [
    {
     "data": {
      "text/html": [
       "<div>\n",
       "<style scoped>\n",
       "    .dataframe tbody tr th:only-of-type {\n",
       "        vertical-align: middle;\n",
       "    }\n",
       "\n",
       "    .dataframe tbody tr th {\n",
       "        vertical-align: top;\n",
       "    }\n",
       "\n",
       "    .dataframe thead th {\n",
       "        text-align: right;\n",
       "    }\n",
       "</style>\n",
       "<table border=\"1\" class=\"dataframe\">\n",
       "  <thead>\n",
       "    <tr style=\"text-align: right;\">\n",
       "      <th></th>\n",
       "      <th>POS</th>\n",
       "      <th>REF</th>\n",
       "      <th>ALT</th>\n",
       "      <th>Gene</th>\n",
       "      <th>WT_AA</th>\n",
       "      <th>MUT_AA</th>\n",
       "      <th>POS_AA</th>\n",
       "    </tr>\n",
       "  </thead>\n",
       "  <tbody>\n",
       "    <tr>\n",
       "      <th>4</th>\n",
       "      <td>5256</td>\n",
       "      <td>T</td>\n",
       "      <td>C</td>\n",
       "      <td>intergenic</td>\n",
       "      <td>NaN</td>\n",
       "      <td>NaN</td>\n",
       "      <td>NaN</td>\n",
       "    </tr>\n",
       "    <tr>\n",
       "      <th>5</th>\n",
       "      <td>1872</td>\n",
       "      <td>A</td>\n",
       "      <td>G</td>\n",
       "      <td>P</td>\n",
       "      <td>E</td>\n",
       "      <td>E</td>\n",
       "      <td>22.0</td>\n",
       "    </tr>\n",
       "    <tr>\n",
       "      <th>8</th>\n",
       "      <td>4318</td>\n",
       "      <td>T</td>\n",
       "      <td>C</td>\n",
       "      <td>M</td>\n",
       "      <td>L</td>\n",
       "      <td>S</td>\n",
       "      <td>294.0</td>\n",
       "    </tr>\n",
       "    <tr>\n",
       "      <th>11</th>\n",
       "      <td>1458</td>\n",
       "      <td>T</td>\n",
       "      <td>C</td>\n",
       "      <td>N</td>\n",
       "      <td>Y</td>\n",
       "      <td>H</td>\n",
       "      <td>451.0</td>\n",
       "    </tr>\n",
       "    <tr>\n",
       "      <th>12</th>\n",
       "      <td>4143</td>\n",
       "      <td>T</td>\n",
       "      <td>C</td>\n",
       "      <td>M</td>\n",
       "      <td>Y</td>\n",
       "      <td>H</td>\n",
       "      <td>236.0</td>\n",
       "    </tr>\n",
       "  </tbody>\n",
       "</table>\n",
       "</div>"
      ],
      "text/plain": [
       "     POS REF ALT        Gene WT_AA MUT_AA  POS_AA\n",
       "4   5256   T   C  intergenic   NaN    NaN     NaN\n",
       "5   1872   A   G           P     E      E    22.0\n",
       "8   4318   T   C           M     L      S   294.0\n",
       "11  1458   T   C           N     Y      H   451.0\n",
       "12  4143   T   C           M     Y      H   236.0"
      ]
     },
     "execution_count": 12,
     "metadata": {},
     "output_type": "execute_result"
    }
   ],
   "source": [
    "possible_ADAR_df.head()"
   ]
  },
  {
   "cell_type": "code",
   "execution_count": 13,
   "id": "70170100",
   "metadata": {},
   "outputs": [
    {
     "data": {
      "text/plain": [
       "Gene\n",
       "intergenic    23\n",
       "M              7\n",
       "L              7\n",
       "F              7\n",
       "N              5\n",
       "P              4\n",
       "H              4\n",
       "dtype: int64"
      ]
     },
     "execution_count": 13,
     "metadata": {},
     "output_type": "execute_result"
    }
   ],
   "source": [
    "possible_ADAR_df.value_counts('Gene')"
   ]
  },
  {
   "cell_type": "code",
   "execution_count": 14,
   "id": "fc443e19",
   "metadata": {},
   "outputs": [
    {
     "data": {
      "text/plain": [
       "Gene\n",
       "intergenic    49\n",
       "L             22\n",
       "F             18\n",
       "M             14\n",
       "P             13\n",
       "H             11\n",
       "N             10\n",
       "dtype: int64"
      ]
     },
     "execution_count": 14,
     "metadata": {},
     "output_type": "execute_result"
    }
   ],
   "source": [
    "consensus_snps_df.value_counts('Gene')"
   ]
  },
  {
   "cell_type": "markdown",
   "id": "0e69f35f",
   "metadata": {},
   "source": [
    "I'll look more deeply into the distribution of these mutation effects in `R`. "
   ]
  },
  {
   "cell_type": "markdown",
   "id": "06230fac",
   "metadata": {},
   "source": [
    "It seems unlikley that the stop codon mutation happend more than once since it's not an ADAR mediated mutation. However, it's possible that there are very few in-frame codons in matrix that are only one mutation away from a stop codon. "
   ]
  },
  {
   "cell_type": "code",
   "execution_count": 55,
   "id": "a7a710dc",
   "metadata": {},
   "outputs": [
    {
     "data": {
      "text/plain": [
       "1008"
      ]
     },
     "execution_count": 55,
     "metadata": {},
     "output_type": "execute_result"
    }
   ],
   "source": [
    "M_coordinates = parse_gff(\"../../config/gff/MeVChiTok.gff\")['M']\n",
    "\n",
    "M_sequence = reference_seq[M_coordinates[0]-1:M_coordinates[1]]\n",
    "\n",
    "len(M_sequence)"
   ]
  },
  {
   "cell_type": "code",
   "execution_count": 56,
   "id": "8913960e",
   "metadata": {},
   "outputs": [
    {
     "data": {
      "text/plain": [
       "['ATG',\n",
       " 'ACA',\n",
       " 'GAG',\n",
       " 'ATC',\n",
       " 'TAC',\n",
       " 'GAC',\n",
       " 'TTC',\n",
       " 'GAC',\n",
       " 'AAG',\n",
       " 'TCG',\n",
       " 'GCA',\n",
       " 'TGG',\n",
       " 'GAC',\n",
       " 'ATC',\n",
       " 'AAA',\n",
       " 'GGG',\n",
       " 'TCG',\n",
       " 'ATC',\n",
       " 'GCT',\n",
       " 'CCG',\n",
       " 'ATA',\n",
       " 'CAA',\n",
       " 'CCT',\n",
       " 'ACC',\n",
       " 'ACC',\n",
       " 'TAC',\n",
       " 'AGT',\n",
       " 'GAT',\n",
       " 'GGC',\n",
       " 'AGG',\n",
       " 'CTG',\n",
       " 'GTG',\n",
       " 'CCC',\n",
       " 'CAG',\n",
       " 'GTC',\n",
       " 'AGA',\n",
       " 'GTC',\n",
       " 'ATA',\n",
       " 'GAT',\n",
       " 'CCT',\n",
       " 'GGT',\n",
       " 'CTA',\n",
       " 'GGT',\n",
       " 'GAT',\n",
       " 'AGG',\n",
       " 'AAG',\n",
       " 'GAT',\n",
       " 'GAA',\n",
       " 'TGC',\n",
       " 'TTT',\n",
       " 'ATG',\n",
       " 'TAC',\n",
       " 'ATG',\n",
       " 'TTT',\n",
       " 'CTG',\n",
       " 'CTG',\n",
       " 'GGG',\n",
       " 'GTT',\n",
       " 'GTT',\n",
       " 'GAG',\n",
       " 'GAC',\n",
       " 'AGC',\n",
       " 'GAT',\n",
       " 'CCC',\n",
       " 'CTA',\n",
       " 'GGG',\n",
       " 'CCT',\n",
       " 'CCA',\n",
       " 'ATC',\n",
       " 'GGG',\n",
       " 'CGA',\n",
       " 'GCA',\n",
       " 'TTC',\n",
       " 'GGG',\n",
       " 'TCC',\n",
       " 'CTG',\n",
       " 'CCC',\n",
       " 'TTA',\n",
       " 'GGT',\n",
       " 'GTT',\n",
       " 'GGT',\n",
       " 'AGA',\n",
       " 'TCC',\n",
       " 'ACA',\n",
       " 'GCA',\n",
       " 'AAA',\n",
       " 'CCC',\n",
       " 'GAG',\n",
       " 'GAA',\n",
       " 'CTC',\n",
       " 'CTC',\n",
       " 'AAA',\n",
       " 'GAG',\n",
       " 'GCC',\n",
       " 'ACT',\n",
       " 'GAG',\n",
       " 'CTT',\n",
       " 'GAC',\n",
       " 'ATA',\n",
       " 'GTT',\n",
       " 'GTT',\n",
       " 'AGA',\n",
       " 'CGT',\n",
       " 'ACA',\n",
       " 'GCA',\n",
       " 'GGG',\n",
       " 'CTC',\n",
       " 'AAT',\n",
       " 'GAA',\n",
       " 'AAA',\n",
       " 'CTG',\n",
       " 'GTG',\n",
       " 'TTC',\n",
       " 'TAC',\n",
       " 'AAC',\n",
       " 'AAC',\n",
       " 'ACC',\n",
       " 'CCA',\n",
       " 'CTA',\n",
       " 'ACC',\n",
       " 'CTC',\n",
       " 'CTC',\n",
       " 'ACA',\n",
       " 'CCT',\n",
       " 'TGa',\n",
       " 'AGA',\n",
       " 'AAG',\n",
       " 'GTC',\n",
       " 'CTA',\n",
       " 'ACA',\n",
       " 'ACA',\n",
       " 'GGG',\n",
       " 'AGT',\n",
       " 'GTC',\n",
       " 'TTC',\n",
       " 'AAT',\n",
       " 'GCA',\n",
       " 'AAC',\n",
       " 'CAA',\n",
       " 'GTG',\n",
       " 'TGC',\n",
       " 'AAT',\n",
       " 'GCG',\n",
       " 'GTT',\n",
       " 'AAT',\n",
       " 'CTA',\n",
       " 'ATA',\n",
       " 'CCG',\n",
       " 'CTG',\n",
       " 'GAC',\n",
       " 'ACC',\n",
       " 'CCG',\n",
       " 'CAG',\n",
       " 'AGG',\n",
       " 'TTC',\n",
       " 'CGT',\n",
       " 'GTT',\n",
       " 'GTT',\n",
       " 'TAT',\n",
       " 'ATG',\n",
       " 'AGC',\n",
       " 'ATC',\n",
       " 'ACC',\n",
       " 'CGC',\n",
       " 'CTT',\n",
       " 'TCG',\n",
       " 'GAT',\n",
       " 'AAC',\n",
       " 'GGG',\n",
       " 'TAT',\n",
       " 'TAC',\n",
       " 'ACC',\n",
       " 'GTT',\n",
       " 'CCC',\n",
       " 'AGA',\n",
       " 'AGA',\n",
       " 'ATG',\n",
       " 'CTG',\n",
       " 'GAA',\n",
       " 'TTC',\n",
       " 'AGA',\n",
       " 'TCG',\n",
       " 'GTC',\n",
       " 'AAT',\n",
       " 'GCA',\n",
       " 'GTG',\n",
       " 'GCC',\n",
       " 'TTC',\n",
       " 'AAC',\n",
       " 'CTG',\n",
       " 'CTA',\n",
       " 'GTG',\n",
       " 'GCC',\n",
       " 'CTC',\n",
       " 'AGG',\n",
       " 'ATT',\n",
       " 'GAC',\n",
       " 'AAG',\n",
       " 'GCG',\n",
       " 'ATT',\n",
       " 'GGC',\n",
       " 'CCT',\n",
       " 'GGG',\n",
       " 'AAG',\n",
       " 'ATC',\n",
       " 'ATC',\n",
       " 'GAC',\n",
       " 'AAT',\n",
       " 'GCA',\n",
       " 'GAG',\n",
       " 'CAA',\n",
       " 'CTT',\n",
       " 'CCT',\n",
       " 'GAG',\n",
       " 'GCA',\n",
       " 'ACA',\n",
       " 'TTT',\n",
       " 'ATG',\n",
       " 'GTC',\n",
       " 'CAC',\n",
       " 'ATC',\n",
       " 'GGG',\n",
       " 'AAC',\n",
       " 'TTC',\n",
       " 'AGG',\n",
       " 'AGA',\n",
       " 'AAG',\n",
       " 'AAG',\n",
       " 'AGT',\n",
       " 'GAA',\n",
       " 'GTC',\n",
       " 'TAC',\n",
       " 'TCT',\n",
       " 'GCC',\n",
       " 'GAT',\n",
       " 'TAT',\n",
       " 'TGC',\n",
       " 'AAA',\n",
       " 'ATG',\n",
       " 'AAA',\n",
       " 'ATC',\n",
       " 'GAA',\n",
       " 'AAG',\n",
       " 'ATG',\n",
       " 'GGC',\n",
       " 'CTG',\n",
       " 'GTT',\n",
       " 'CTT',\n",
       " 'GCA',\n",
       " 'CTT',\n",
       " 'GGT',\n",
       " 'GGG',\n",
       " 'ATA',\n",
       " 'GGG',\n",
       " 'GGC',\n",
       " 'ACC',\n",
       " 'AGT',\n",
       " 'CTT',\n",
       " 'CAC',\n",
       " 'ATT',\n",
       " 'AGA',\n",
       " 'AGC',\n",
       " 'ACA',\n",
       " 'GGC',\n",
       " 'AAA',\n",
       " 'ATG',\n",
       " 'AGC',\n",
       " 'AAG',\n",
       " 'ACT',\n",
       " 'CTC',\n",
       " 'CAT',\n",
       " 'GCA',\n",
       " 'CAA',\n",
       " 'CTC',\n",
       " 'GGG',\n",
       " 'TTC',\n",
       " 'AAG',\n",
       " 'AAG',\n",
       " 'ACC',\n",
       " 'TTA',\n",
       " 'TGT',\n",
       " 'TAC',\n",
       " 'CCA',\n",
       " 'CTG',\n",
       " 'ATG',\n",
       " 'GAT',\n",
       " 'ATC',\n",
       " 'AAT',\n",
       " 'GAA',\n",
       " 'GAC',\n",
       " 'CTT',\n",
       " 'AAT',\n",
       " 'CGG',\n",
       " 'TTA',\n",
       " 'CTC',\n",
       " 'TGG',\n",
       " 'AGG',\n",
       " 'AGC',\n",
       " 'AGA',\n",
       " 'TGC',\n",
       " 'AAG',\n",
       " 'ATA',\n",
       " 'GTA',\n",
       " 'AGA',\n",
       " 'ATC',\n",
       " 'CAG',\n",
       " 'GCA',\n",
       " 'GTT',\n",
       " 'TTG',\n",
       " 'CAG',\n",
       " 'CCA',\n",
       " 'TCA',\n",
       " 'GTT',\n",
       " 'CCT',\n",
       " 'CAA',\n",
       " 'GAA',\n",
       " 'TTC',\n",
       " 'CGC',\n",
       " 'ATT',\n",
       " 'TAC',\n",
       " 'GAC',\n",
       " 'GAC',\n",
       " 'GTG',\n",
       " 'ATC',\n",
       " 'ATA',\n",
       " 'AAT',\n",
       " 'GAT',\n",
       " 'GAC',\n",
       " 'CAA',\n",
       " 'GGA',\n",
       " 'CTA',\n",
       " 'TTC',\n",
       " 'AAA',\n",
       " 'GTT',\n",
       " 'CTG',\n",
       " 'TAG']"
      ]
     },
     "execution_count": 56,
     "metadata": {},
     "output_type": "execute_result"
    }
   ],
   "source": [
    "M_codons = [\"\".join([a,b,c]) for a,b,c in zip(M_sequence[0::3], M_sequence[1::3], M_sequence[2::3])]\n",
    "M_codons"
   ]
  },
  {
   "cell_type": "code",
   "execution_count": 57,
   "id": "c4e2b1b5",
   "metadata": {},
   "outputs": [
    {
     "data": {
      "text/plain": [
       "1"
      ]
     },
     "execution_count": 57,
     "metadata": {},
     "output_type": "execute_result"
    }
   ],
   "source": [
    "def hammingDist(str1, str2):\n",
    "    i = 0\n",
    "    count = 0\n",
    " \n",
    "    while(i < len(str1)):\n",
    "        if(str1[i] != str2[i]):\n",
    "            count += 1\n",
    "        i += 1\n",
    "    return count\n",
    "\n",
    "hammingDist(\"TAG\", \"CAG\")"
   ]
  },
  {
   "cell_type": "code",
   "execution_count": 58,
   "id": "063b18ea",
   "metadata": {},
   "outputs": [
    {
     "data": {
      "text/plain": [
       "['TAA', 'TAG', 'TGA']"
      ]
     },
     "execution_count": 58,
     "metadata": {},
     "output_type": "execute_result"
    }
   ],
   "source": [
    "stop_codons"
   ]
  },
  {
   "cell_type": "code",
   "execution_count": 59,
   "id": "e794567c",
   "metadata": {},
   "outputs": [
    {
     "name": "stdout",
     "output_type": "stream",
     "text": [
      "The codon GAG at position 3 is only 1 mutation away from a stop (TAG).\n",
      "The codon TAC at position 5 is only 1 mutation away from a stop (TAA).\n",
      "The codon AAG at position 9 is only 1 mutation away from a stop (TAG).\n",
      "The codon TCG at position 10 is only 1 mutation away from a stop (TAG).\n",
      "The codon TGG at position 12 is only 1 mutation away from a stop (TAG).\n",
      "The codon AAA at position 15 is only 1 mutation away from a stop (TAA).\n",
      "The codon TCG at position 17 is only 1 mutation away from a stop (TAG).\n",
      "The codon CAA at position 22 is only 1 mutation away from a stop (TAA).\n",
      "The codon TAC at position 26 is only 1 mutation away from a stop (TAA).\n",
      "The codon CAG at position 34 is only 1 mutation away from a stop (TAG).\n",
      "The codon AGA at position 36 is only 1 mutation away from a stop (TGA).\n",
      "The codon AAG at position 46 is only 1 mutation away from a stop (TAG).\n",
      "The codon GAA at position 48 is only 1 mutation away from a stop (TAA).\n",
      "The codon TGC at position 49 is only 1 mutation away from a stop (TGA).\n",
      "The codon TAC at position 52 is only 1 mutation away from a stop (TAA).\n",
      "The codon GAG at position 60 is only 1 mutation away from a stop (TAG).\n",
      "The codon CGA at position 71 is only 1 mutation away from a stop (TGA).\n",
      "The codon TTA at position 78 is only 1 mutation away from a stop (TAA).\n",
      "The codon AGA at position 82 is only 1 mutation away from a stop (TGA).\n",
      "The codon AAA at position 86 is only 1 mutation away from a stop (TAA).\n",
      "The codon GAG at position 88 is only 1 mutation away from a stop (TAG).\n",
      "The codon GAA at position 89 is only 1 mutation away from a stop (TAA).\n",
      "The codon AAA at position 92 is only 1 mutation away from a stop (TAA).\n",
      "The codon GAG at position 93 is only 1 mutation away from a stop (TAG).\n",
      "The codon GAG at position 96 is only 1 mutation away from a stop (TAG).\n",
      "The codon AGA at position 102 is only 1 mutation away from a stop (TGA).\n",
      "The codon GAA at position 109 is only 1 mutation away from a stop (TAA).\n",
      "The codon AAA at position 110 is only 1 mutation away from a stop (TAA).\n",
      "The codon TAC at position 114 is only 1 mutation away from a stop (TAA).\n",
      "The codon TGa at position 125 is only 1 mutation away from a stop (TGA).\n",
      "The codon AGA at position 126 is only 1 mutation away from a stop (TGA).\n",
      "The codon AAG at position 127 is only 1 mutation away from a stop (TAG).\n",
      "The codon CAA at position 139 is only 1 mutation away from a stop (TAA).\n",
      "The codon TGC at position 141 is only 1 mutation away from a stop (TGA).\n",
      "The codon CAG at position 153 is only 1 mutation away from a stop (TAG).\n",
      "The codon TAT at position 159 is only 1 mutation away from a stop (TAA).\n",
      "The codon TCG at position 166 is only 1 mutation away from a stop (TAG).\n",
      "The codon TAT at position 170 is only 1 mutation away from a stop (TAA).\n",
      "The codon TAC at position 171 is only 1 mutation away from a stop (TAA).\n",
      "The codon AGA at position 175 is only 1 mutation away from a stop (TGA).\n",
      "The codon AGA at position 176 is only 1 mutation away from a stop (TGA).\n",
      "The codon GAA at position 179 is only 1 mutation away from a stop (TAA).\n",
      "The codon AGA at position 181 is only 1 mutation away from a stop (TGA).\n",
      "The codon TCG at position 182 is only 1 mutation away from a stop (TAG).\n",
      "The codon AAG at position 198 is only 1 mutation away from a stop (TAG).\n",
      "The codon AAG at position 204 is only 1 mutation away from a stop (TAG).\n",
      "The codon GAG at position 210 is only 1 mutation away from a stop (TAG).\n",
      "The codon CAA at position 211 is only 1 mutation away from a stop (TAA).\n",
      "The codon GAG at position 214 is only 1 mutation away from a stop (TAG).\n",
      "The codon AGA at position 226 is only 1 mutation away from a stop (TGA).\n",
      "The codon AAG at position 227 is only 1 mutation away from a stop (TAG).\n",
      "The codon AAG at position 228 is only 1 mutation away from a stop (TAG).\n",
      "The codon GAA at position 230 is only 1 mutation away from a stop (TAA).\n",
      "The codon TAC at position 232 is only 1 mutation away from a stop (TAA).\n",
      "The codon TAT at position 236 is only 1 mutation away from a stop (TAA).\n",
      "The codon TGC at position 237 is only 1 mutation away from a stop (TGA).\n",
      "The codon AAA at position 238 is only 1 mutation away from a stop (TAA).\n",
      "The codon AAA at position 240 is only 1 mutation away from a stop (TAA).\n",
      "The codon GAA at position 242 is only 1 mutation away from a stop (TAA).\n",
      "The codon AAG at position 243 is only 1 mutation away from a stop (TAG).\n",
      "The codon AGA at position 261 is only 1 mutation away from a stop (TGA).\n",
      "The codon AAA at position 265 is only 1 mutation away from a stop (TAA).\n",
      "The codon AAG at position 268 is only 1 mutation away from a stop (TAG).\n",
      "The codon CAA at position 273 is only 1 mutation away from a stop (TAA).\n",
      "The codon AAG at position 277 is only 1 mutation away from a stop (TAG).\n",
      "The codon AAG at position 278 is only 1 mutation away from a stop (TAG).\n",
      "The codon TTA at position 280 is only 1 mutation away from a stop (TAA).\n",
      "The codon TGT at position 281 is only 1 mutation away from a stop (TGA).\n",
      "The codon TAC at position 282 is only 1 mutation away from a stop (TAA).\n",
      "The codon GAA at position 289 is only 1 mutation away from a stop (TAA).\n",
      "The codon TTA at position 294 is only 1 mutation away from a stop (TAA).\n",
      "The codon TGG at position 296 is only 1 mutation away from a stop (TAG).\n",
      "The codon AGA at position 299 is only 1 mutation away from a stop (TGA).\n",
      "The codon TGC at position 300 is only 1 mutation away from a stop (TGA).\n",
      "The codon AAG at position 301 is only 1 mutation away from a stop (TAG).\n",
      "The codon AGA at position 304 is only 1 mutation away from a stop (TGA).\n",
      "The codon CAG at position 306 is only 1 mutation away from a stop (TAG).\n",
      "The codon TTG at position 309 is only 1 mutation away from a stop (TAG).\n",
      "The codon CAG at position 310 is only 1 mutation away from a stop (TAG).\n",
      "The codon TCA at position 312 is only 1 mutation away from a stop (TAA).\n",
      "The codon CAA at position 315 is only 1 mutation away from a stop (TAA).\n",
      "The codon GAA at position 316 is only 1 mutation away from a stop (TAA).\n",
      "The codon TAC at position 320 is only 1 mutation away from a stop (TAA).\n",
      "The codon CAA at position 329 is only 1 mutation away from a stop (TAA).\n",
      "The codon GGA at position 330 is only 1 mutation away from a stop (TGA).\n",
      "The codon AAA at position 333 is only 1 mutation away from a stop (TAA).\n",
      "The codon TAG at position 336 is only 1 mutation away from a stop (TAA).\n"
     ]
    }
   ],
   "source": [
    "stop_count = 0\n",
    "\n",
    "for i, codon in enumerate(M_codons):\n",
    "    \n",
    "    for stop in stop_codons:\n",
    "        \n",
    "        if hammingDist(stop, codon) == 1:\n",
    "            print(f\"The codon {codon} at position {i+1} is only 1 mutation away from a stop ({stop}).\")\n",
    "            \n",
    "            stop_count += 1\n",
    "            break"
   ]
  },
  {
   "cell_type": "code",
   "execution_count": 62,
   "id": "8b5cc901",
   "metadata": {},
   "outputs": [
    {
     "name": "stdout",
     "output_type": "stream",
     "text": [
      "Over 25.89 codons in M are only a single mutation away from a stop codon.\n"
     ]
    }
   ],
   "source": [
    "print(f\"Over {(stop_count/len(M_codons)) * 100:.2f} codons in M are only a single mutation away from a stop codon.\")"
   ]
  },
  {
   "cell_type": "code",
   "execution_count": null,
   "id": "62162924",
   "metadata": {},
   "outputs": [],
   "source": []
  }
 ],
 "metadata": {
  "kernelspec": {
   "display_name": "Python 3 (ipykernel)",
   "language": "python",
   "name": "python3"
  },
  "language_info": {
   "codemirror_mode": {
    "name": "ipython",
    "version": 3
   },
   "file_extension": ".py",
   "mimetype": "text/x-python",
   "name": "python",
   "nbconvert_exporter": "python",
   "pygments_lexer": "ipython3",
   "version": "3.7.6"
  }
 },
 "nbformat": 4,
 "nbformat_minor": 5
}
