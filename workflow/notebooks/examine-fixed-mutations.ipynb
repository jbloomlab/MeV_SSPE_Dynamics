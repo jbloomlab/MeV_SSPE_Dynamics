{
 "cells": [
  {
   "cell_type": "markdown",
   "id": "b13ed611",
   "metadata": {},
   "source": [
    "# Examine Fixed Mutations \n",
    "\n",
    "What are the mutations that have fixed in samples isolated from the brain? We call this consensus the \"SSPE Reference\" and the Cattaneo lab call this the \"Brain Founder\"."
   ]
  },
  {
   "cell_type": "code",
   "execution_count": 1,
   "id": "11996397",
   "metadata": {},
   "outputs": [],
   "source": [
    "import os \n",
    "import pandas as pd\n",
    "import numpy as np\n",
    "from Bio import SeqIO"
   ]
  },
  {
   "cell_type": "code",
   "execution_count": 2,
   "id": "cc4ded22",
   "metadata": {},
   "outputs": [],
   "source": [
    "# Get the list of consensus mutation in the brain\n",
    "consensus_snps_df = pd.read_csv(\"../../config/ref/annotated_SSPE_consensus_snps.csv\")\n",
    "\n",
    "# Get the reference sequence as s list\n",
    "reference_seq = [base for record in SeqIO.parse(\"../../config/ref/MeVChiTok.fa\", \"fasta\") for base in record.seq]"
   ]
  },
  {
   "cell_type": "markdown",
   "id": "02544e83",
   "metadata": {},
   "source": [
    "## Mutations to Stop Codons\n",
    "\n",
    "Some of the most interesting mutations will be to stop codons – either mutations that remove stop codons or introduce new stop codons. These will change the reading frames in all of the measles isolates. "
   ]
  },
  {
   "cell_type": "code",
   "execution_count": 4,
   "id": "7f61c404",
   "metadata": {},
   "outputs": [
    {
     "data": {
      "text/html": [
       "<div>\n",
       "<style scoped>\n",
       "    .dataframe tbody tr th:only-of-type {\n",
       "        vertical-align: middle;\n",
       "    }\n",
       "\n",
       "    .dataframe tbody tr th {\n",
       "        vertical-align: top;\n",
       "    }\n",
       "\n",
       "    .dataframe thead th {\n",
       "        text-align: right;\n",
       "    }\n",
       "</style>\n",
       "<table border=\"1\" class=\"dataframe\">\n",
       "  <thead>\n",
       "    <tr style=\"text-align: right;\">\n",
       "      <th></th>\n",
       "      <th>POS</th>\n",
       "      <th>REF</th>\n",
       "      <th>ALT</th>\n",
       "      <th>Gene</th>\n",
       "      <th>WT_AA</th>\n",
       "      <th>MUT_AA</th>\n",
       "      <th>POS_AA</th>\n",
       "    </tr>\n",
       "  </thead>\n",
       "  <tbody>\n",
       "    <tr>\n",
       "      <th>76</th>\n",
       "      <td>9124</td>\n",
       "      <td>G</td>\n",
       "      <td>T</td>\n",
       "      <td>H</td>\n",
       "      <td>*</td>\n",
       "      <td>Y</td>\n",
       "      <td>618.0</td>\n",
       "    </tr>\n",
       "    <tr>\n",
       "      <th>129</th>\n",
       "      <td>3812</td>\n",
       "      <td>G</td>\n",
       "      <td>A</td>\n",
       "      <td>M</td>\n",
       "      <td>W</td>\n",
       "      <td>*</td>\n",
       "      <td>125.0</td>\n",
       "    </tr>\n",
       "  </tbody>\n",
       "</table>\n",
       "</div>"
      ],
      "text/plain": [
       "      POS REF ALT Gene WT_AA MUT_AA  POS_AA\n",
       "76   9124   G   T    H     *      Y   618.0\n",
       "129  3812   G   A    M     W      *   125.0"
      ]
     },
     "execution_count": 4,
     "metadata": {},
     "output_type": "execute_result"
    }
   ],
   "source": [
    "stop_codon_mutations = consensus_snps_df[(consensus_snps_df[\"MUT_AA\"] == \"*\") | (consensus_snps_df[\"WT_AA\"] == \"*\")]\n",
    "stop_codon_mutations"
   ]
  },
  {
   "cell_type": "markdown",
   "id": "f0eceeb2",
   "metadata": {},
   "source": [
    "There are two mutations that change stop codons. One of these is a very significant truncation of the Matrix protein (**W125***) and the other removes the stop codon in Hemagglutinin (***618Y**).  "
   ]
  },
  {
   "cell_type": "markdown",
   "id": "f0cc1620",
   "metadata": {},
   "source": [
    "### Matrix Premature Stop\n",
    "\n",
    "Stop codons are known dirver mutations of SSPE. It's thought that an inactive or truncated Matrix protein is important for SSPE progression. \n",
    "\n",
    "Based on the accumulation of mutations in the Matrix protein, it almost seems like this mutations was aquired twice. One plausible explaination of this is that the mutation is in a site particularly succeptible to ADAR mediated mutations. "
   ]
  },
  {
   "cell_type": "markdown",
   "id": "0700dbb1",
   "metadata": {},
   "source": [
    "ADAR has some [sequence specificity](https://www.nature.com/articles/ncomms1324). Is this sequence specifcity also around the site of the introduced stop codon? "
   ]
  },
  {
   "cell_type": "code",
   "execution_count": 5,
   "id": "13706c03",
   "metadata": {},
   "outputs": [
    {
     "data": {
      "text/plain": [
       "'CCTTGaAGAAA'"
      ]
     },
     "execution_count": 5,
     "metadata": {},
     "output_type": "execute_result"
    }
   ],
   "source": [
    "reference_seq[3812-1] = \"a\"\n",
    "\n",
    "\"\".join(reference_seq[(3812-1-5):(3812-1+6)])"
   ]
  },
  {
   "cell_type": "markdown",
   "id": "a998f0d7",
   "metadata": {},
   "source": [
    "I doesn't look like the sequence context for ADAR, and what's more, it can't be an ADAR mutations. These will always be **A -> G** or **T -> C**."
   ]
  },
  {
   "cell_type": "markdown",
   "id": "37592ec2",
   "metadata": {},
   "source": [
    "### Haemagglutinin Stop Mutation \n",
    "\n",
    "The normal stop codon at the end of Haemagglutinin is mutated to a tyrosine. Where is the next stop codon? "
   ]
  },
  {
   "cell_type": "code",
   "execution_count": 6,
   "id": "df5cb81d",
   "metadata": {},
   "outputs": [],
   "source": [
    "def parse_gff(gff_path, genes_to_keep = ['N', 'P', 'M', 'F', 'H', 'L']):\n",
    "    \"\"\"\n",
    "    Parse the Measles GFF file to get the coordinates of the coding sequences.\n",
    "    \"\"\"\n",
    "    # Hold the parsed genes\n",
    "    gff_dict = {}\n",
    "    \n",
    "    # Parse the GFF file\n",
    "    with open(gff_path) as gff_file:\n",
    "        for line in gff_file:\n",
    "            # Ignore the header\n",
    "            if line.startswith('#'):\n",
    "                continue\n",
    "            # Only take the coding sequences\n",
    "            else:\n",
    "                record = line.strip().split(\"\\t\")\n",
    "                if record[2] == \"CDS\":\n",
    "                   \n",
    "                    # Get the start and stop \n",
    "                    start = int(record[3])\n",
    "                    stop = int(record[4])\n",
    "                    \n",
    "                    # Get the gene and product names\n",
    "                    annot_dict = {annot.split(\"=\")[0]: annot.split(\"=\")[1] for annot in record[8].split(\";\")}\n",
    "                    gene = annot_dict['gene']\n",
    "\n",
    "                    # There are four P/V/C reading frames\n",
    "                    if gene == 'P/V/C':\n",
    "                        gene = annot_dict['product'][0].upper()\n",
    "                    \n",
    "                    # Only keep the annotations of interest\n",
    "                    if gene in genes_to_keep:\n",
    "                        gff_dict[gene] = [start, stop]\n",
    "                        \n",
    "    return gff_dict"
   ]
  },
  {
   "cell_type": "code",
   "execution_count": 8,
   "id": "a7f725a4",
   "metadata": {},
   "outputs": [
    {
     "data": {
      "text/plain": [
       "[7271, 9124]"
      ]
     },
     "execution_count": 8,
     "metadata": {},
     "output_type": "execute_result"
    }
   ],
   "source": [
    "# Parse the coordinates of H from the GFF file.\n",
    "H_coordinates = parse_gff(\"../../config/gff/MeVChiTok.gff\")['H']"
   ]
  },
  {
   "cell_type": "code",
   "execution_count": 31,
   "id": "39ea7ace",
   "metadata": {},
   "outputs": [
    {
     "name": "stdout",
     "output_type": "stream",
     "text": [
      "There is another stop codon at 3: TAG\n"
     ]
    }
   ],
   "source": [
    "stop_codons = ['TAA','TAG','TGA']\n",
    "\n",
    "after_H_stop = reference_seq[H_coordinates[1]:]\n",
    "\n",
    "codons_after_H = [\"\".join([a,b,c]) for a,b,c in zip(after_H_stop[0::3], after_H_stop[1::3], after_H_stop[2::3])]\n",
    "\n",
    "for i, codon in enumerate(codons_after_H):\n",
    "    if codon in stop_codons:\n",
    "        print(f\"There is another stop codon at {i+1}: {codon}\")\n",
    "        break"
   ]
  },
  {
   "cell_type": "markdown",
   "id": "a515bf13",
   "metadata": {},
   "source": [
    "It looks like there is another in-frame stop codon only there codons downstream of the original stop. This means that there are three additional amino acids in the SSPE Haemagglutinin sequence. What are these? "
   ]
  },
  {
   "cell_type": "code",
   "execution_count": 35,
   "id": "3461189b",
   "metadata": {},
   "outputs": [
    {
     "data": {
      "text/plain": [
       "[7271, 9133]"
      ]
     },
     "execution_count": 35,
     "metadata": {},
     "output_type": "execute_result"
    }
   ],
   "source": [
    "# Update the coordinates of H\n",
    "new_H_coordinates = [H_coordinates[0], H_coordinates[1] + (3*3)]\n",
    "new_H_coordinates"
   ]
  },
  {
   "cell_type": "code",
   "execution_count": 47,
   "id": "b82e32d2",
   "metadata": {},
   "outputs": [
    {
     "name": "stdout",
     "output_type": "stream",
     "text": [
      "GGC TGC TAG\n"
     ]
    }
   ],
   "source": [
    "new_codons = reference_seq[H_coordinates[1]:new_H_coordinates[1]]\n",
    "new_codons = [\"\".join([a,b,c]) for a,b,c in zip(new_codons[0::3], new_codons[1::3], new_codons[2::3])]\n",
    "print(*new_codons)"
   ]
  },
  {
   "cell_type": "markdown",
   "id": "ef4fea8a",
   "metadata": {},
   "source": [
    "The old stop codon become a Tyrosine, then there is a Glycine and a Cysteine. "
   ]
  },
  {
   "cell_type": "markdown",
   "id": "e2f5d08c",
   "metadata": {},
   "source": [
    "## Distribution of Mutation Effects\n",
    "\n",
    "What is the distribution of fixed mutations and their effects? Are there lots of apparent ADAR mutations? Where are these mutations in the genome? "
   ]
  },
  {
   "cell_type": "code",
   "execution_count": 56,
   "id": "27c7b6f9",
   "metadata": {},
   "outputs": [
    {
     "name": "stdout",
     "output_type": "stream",
     "text": [
      "There are 137 mutations fixed in the SSPE samples.\n"
     ]
    }
   ],
   "source": [
    "print(f\"There are {consensus_snps_df.shape[0]} mutations fixed in the SSPE samples.\")"
   ]
  },
  {
   "cell_type": "code",
   "execution_count": 63,
   "id": "db7db4f3",
   "metadata": {},
   "outputs": [
    {
     "name": "stdout",
     "output_type": "stream",
     "text": [
      "There are 57 mutations that are possibly a result of ADAR.\n"
     ]
    }
   ],
   "source": [
    "possible_ADAR_df = consensus_snps_df.query(\"REF == 'T' and ALT == 'C' or REF == 'A' and ALT == 'G'\")\n",
    "\n",
    "print(f\"There are {possible_ADAR_df.shape[0]} mutations that are possibly a result of ADAR.\")"
   ]
  },
  {
   "cell_type": "code",
   "execution_count": 65,
   "id": "fda8e19f",
   "metadata": {},
   "outputs": [
    {
     "data": {
      "text/html": [
       "<div>\n",
       "<style scoped>\n",
       "    .dataframe tbody tr th:only-of-type {\n",
       "        vertical-align: middle;\n",
       "    }\n",
       "\n",
       "    .dataframe tbody tr th {\n",
       "        vertical-align: top;\n",
       "    }\n",
       "\n",
       "    .dataframe thead th {\n",
       "        text-align: right;\n",
       "    }\n",
       "</style>\n",
       "<table border=\"1\" class=\"dataframe\">\n",
       "  <thead>\n",
       "    <tr style=\"text-align: right;\">\n",
       "      <th></th>\n",
       "      <th>POS</th>\n",
       "      <th>REF</th>\n",
       "      <th>ALT</th>\n",
       "      <th>Gene</th>\n",
       "      <th>WT_AA</th>\n",
       "      <th>MUT_AA</th>\n",
       "      <th>POS_AA</th>\n",
       "    </tr>\n",
       "  </thead>\n",
       "  <tbody>\n",
       "    <tr>\n",
       "      <th>4</th>\n",
       "      <td>5256</td>\n",
       "      <td>T</td>\n",
       "      <td>C</td>\n",
       "      <td>intergenic</td>\n",
       "      <td>NaN</td>\n",
       "      <td>NaN</td>\n",
       "      <td>NaN</td>\n",
       "    </tr>\n",
       "    <tr>\n",
       "      <th>5</th>\n",
       "      <td>1872</td>\n",
       "      <td>A</td>\n",
       "      <td>G</td>\n",
       "      <td>P</td>\n",
       "      <td>E</td>\n",
       "      <td>E</td>\n",
       "      <td>22.0</td>\n",
       "    </tr>\n",
       "    <tr>\n",
       "      <th>8</th>\n",
       "      <td>4318</td>\n",
       "      <td>T</td>\n",
       "      <td>C</td>\n",
       "      <td>M</td>\n",
       "      <td>L</td>\n",
       "      <td>S</td>\n",
       "      <td>294.0</td>\n",
       "    </tr>\n",
       "    <tr>\n",
       "      <th>11</th>\n",
       "      <td>1458</td>\n",
       "      <td>T</td>\n",
       "      <td>C</td>\n",
       "      <td>N</td>\n",
       "      <td>Y</td>\n",
       "      <td>H</td>\n",
       "      <td>451.0</td>\n",
       "    </tr>\n",
       "    <tr>\n",
       "      <th>12</th>\n",
       "      <td>4143</td>\n",
       "      <td>T</td>\n",
       "      <td>C</td>\n",
       "      <td>M</td>\n",
       "      <td>Y</td>\n",
       "      <td>H</td>\n",
       "      <td>236.0</td>\n",
       "    </tr>\n",
       "  </tbody>\n",
       "</table>\n",
       "</div>"
      ],
      "text/plain": [
       "     POS REF ALT        Gene WT_AA MUT_AA  POS_AA\n",
       "4   5256   T   C  intergenic   NaN    NaN     NaN\n",
       "5   1872   A   G           P     E      E    22.0\n",
       "8   4318   T   C           M     L      S   294.0\n",
       "11  1458   T   C           N     Y      H   451.0\n",
       "12  4143   T   C           M     Y      H   236.0"
      ]
     },
     "execution_count": 65,
     "metadata": {},
     "output_type": "execute_result"
    }
   ],
   "source": [
    "possible_ADAR_df.head()"
   ]
  },
  {
   "cell_type": "code",
   "execution_count": 69,
   "id": "70170100",
   "metadata": {},
   "outputs": [
    {
     "data": {
      "text/plain": [
       "Gene\n",
       "intergenic    23\n",
       "M              7\n",
       "L              7\n",
       "F              7\n",
       "N              5\n",
       "P              4\n",
       "H              4\n",
       "dtype: int64"
      ]
     },
     "execution_count": 69,
     "metadata": {},
     "output_type": "execute_result"
    }
   ],
   "source": [
    "possible_ADAR_df.value_counts('Gene')"
   ]
  },
  {
   "cell_type": "code",
   "execution_count": 71,
   "id": "fc443e19",
   "metadata": {},
   "outputs": [
    {
     "data": {
      "text/plain": [
       "Gene\n",
       "intergenic    49\n",
       "L             22\n",
       "F             18\n",
       "M             14\n",
       "P             13\n",
       "H             11\n",
       "N             10\n",
       "dtype: int64"
      ]
     },
     "execution_count": 71,
     "metadata": {},
     "output_type": "execute_result"
    }
   ],
   "source": [
    "consensus_snps_df.value_counts('Gene')"
   ]
  },
  {
   "cell_type": "markdown",
   "id": "0e69f35f",
   "metadata": {},
   "source": [
    "I'll look more deeply into the distribution of these mutation effects in `R`. "
   ]
  }
 ],
 "metadata": {
  "kernelspec": {
   "display_name": "Python 3 (ipykernel)",
   "language": "python",
   "name": "python3"
  },
  "language_info": {
   "codemirror_mode": {
    "name": "ipython",
    "version": 3
   },
   "file_extension": ".py",
   "mimetype": "text/x-python",
   "name": "python",
   "nbconvert_exporter": "python",
   "pygments_lexer": "ipython3",
   "version": "3.7.6"
  }
 },
 "nbformat": 4,
 "nbformat_minor": 5
}
